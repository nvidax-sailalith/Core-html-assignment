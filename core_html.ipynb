{
  "nbformat": 4,
  "nbformat_minor": 0,
  "metadata": {
    "colab": {
      "provenance": []
    },
    "kernelspec": {
      "name": "python3",
      "display_name": "Python 3"
    },
    "language_info": {
      "name": "python"
    }
  },
  "cells": [
    {
      "cell_type": "markdown",
      "source": [
        "**1) Build a simple webpage that displays text as shown in the below image.**"
      ],
      "metadata": {
        "id": "Q_aTuZl19hIZ"
      }
    },
    {
      "cell_type": "code",
      "execution_count": null,
      "metadata": {
        "id": "_U8J0JTDUPcU",
        "colab": {
          "base_uri": "https://localhost:8080/",
          "height": 106
        },
        "outputId": "2b8d3441-ee9c-4897-85db-856237b8d0f7",
        "collapsed": true
      },
      "outputs": [
        {
          "output_type": "error",
          "ename": "SyntaxError",
          "evalue": "invalid decimal literal (<ipython-input-1-0e49b17deadc>, line 7)",
          "traceback": [
            "\u001b[0;36m  File \u001b[0;32m\"<ipython-input-1-0e49b17deadc>\"\u001b[0;36m, line \u001b[0;32m7\u001b[0m\n\u001b[0;31m    <title>1st qn</title>\u001b[0m\n\u001b[0m           ^\u001b[0m\n\u001b[0;31mSyntaxError\u001b[0m\u001b[0;31m:\u001b[0m invalid decimal literal\n"
          ]
        }
      ],
      "source": [
        "#The answer:\n",
        "<!DOCTYPE html>\n",
        "<html lang=\"en\">\n",
        "<head>\n",
        "    <meta charset=\"UTF-8\">\n",
        "    <meta name=\"viewport\" content=\"width=device-width, initial-scale=1.0\">\n",
        "    <title>1st qn</title>\n",
        "</head>\n",
        "<body>\n",
        "    <b>This text will be bolded</b>\n",
        "    <br/>\n",
        "    <br/>\n",
        "    <i>This text will be italic</i>\n",
        "    <br/>\n",
        "    <br/>\n",
        "    <u>This text will be underlined</u>\n",
        "    <br/>\n",
        "    <br/>\n",
        "    <mark>This text will be highlight</mark>\n",
        "    <br/>\n",
        "    <br/>\n",
        "    This is normal text<sup>This text will be superscripted</sup>This is normal again\n",
        "    <br/>\n",
        "    <br/>\n",
        "    This is normal text<sub>This text will be subscripted</sub><br/>\n",
        "    <br/>\n",
        "    Normal text<small> Small text</small>\n",
        "    <br/>\n",
        "    <br/>\n",
        "    <ins>This text will be deleted</ins>\n",
        "</body>\n",
        "</html>"
      ]
    },
    {
      "cell_type": "markdown",
      "source": [
        "**2)Build a simple webpage that helps users navigate different web development-related websites. Note: On\n",
        "clicking the hyperlink the web pages should open in a new tab. Below is a reference image.**"
      ],
      "metadata": {
        "id": "tGRfbVdph0g7"
      }
    },
    {
      "cell_type": "code",
      "source": [
        "#the answer:\n",
        "<!DOCTYPE html>\n",
        "<html lang=\"en\">\n",
        "<head>\n",
        "    <meta charset=\"UTF-8\">\n",
        "    <meta name=\"viewport\" content=\"width=device-width, initial-scale=1.0\">\n",
        "    <title>Document</title>\n",
        "</head>\n",
        "<body>\n",
        "    <h1>Navigate Me:</h1>\n",
        "    <p>\n",
        "        Take me to <a href=\"https://pwskills.com/\" target=\"_blank\">PW Skills</a> to buy a course.\n",
        "    </p>\n",
        "    <p>\n",
        "        Take me to <a href=\"https://developer.mozilla.org/en-US/\" target=\"_blank\">MDN Doc</a> to know more about Web development.\n",
        "    </p>\n",
        "    <p>\n",
        "        Take me to <a href=\"https://pwskills.com/\" target=\"_blank\">PW Skills Lab</a> to practice live coding.\n",
        "\n",
        "    </p>\n",
        "</body>\n",
        "</html>"
      ],
      "metadata": {
        "id": "5Srq17l4oq4W"
      },
      "execution_count": null,
      "outputs": []
    },
    {
      "cell_type": "markdown",
      "source": [
        " **3)Build a simple blog web page with 3 pages home, web development, and web design. Each page must\n",
        "contain hyperlinks to other pages in the top, a heading of the page topic and a paragraph of information.\n",
        "For the home page you can add some information about yourself**\n"
      ],
      "metadata": {
        "id": "RVvgc2Rg9fxY"
      }
    },
    {
      "cell_type": "code",
      "source": [
        "#The answer\n",
        "#Home.html\n",
        "<!DOCTYPE html>\n",
        "<html lang=\"en\">\n",
        "<head>\n",
        "    <meta charset=\"UTF-8\">\n",
        "    <meta name=\"viewport\" content=\"width=device-width, initial-scale=1.0\">\n",
        "    <title>My Blog - Home</title>\n",
        "</head>\n",
        "<body>\n",
        "    <div>\n",
        "        <nav>\n",
        "            <a href=\"home.html\">Home</a> |\n",
        "            <a href=\"webdev.html\">Web Development</a> |\n",
        "            <a href=\"webdesign.html\">Web Design</a>\n",
        "        </nav>\n",
        "\n",
        "        <div>\n",
        "            <h1>Welcome to My Blog</h1>\n",
        "            <p>P. Sai Lalith is an aspiring engineer currently pursuing a Bachelor of Technology at Sreenidhi Institute of Science and Technology, with graduation anticipated in 2026. A quick learner with a natural aptitude for grasping new concepts and skills, Sai Lalith combines technical knowledge with a creative mindset to approach challenges with innovative solutions.</p>\n",
        "        </div>\n",
        "\n",
        "    </div>\n",
        "</body>\n",
        "</html>\n",
        "\n",
        "#Webdev.html\n",
        "<!DOCTYPE html>\n",
        "<html lang=\"en\">\n",
        "<head>\n",
        "    <meta charset=\"UTF-8\">\n",
        "    <meta name=\"viewport\" content=\"width=device-width, initial-scale=1.0\">\n",
        "    <title>My Blog - Web Development</title>\n",
        "</head>\n",
        "<body>\n",
        "    <div>\n",
        "        <nav>\n",
        "            <a href=\"home.html\">Home</a> |\n",
        "            <a href=\"webdev.html\">Web Development</a> |\n",
        "            <a href=\"webdesign.html\">Web Design</a>\n",
        "        </nav>\n",
        "\n",
        "        <div>\n",
        "            <h1>Web Development</h1>\n",
        "            <p>Web development is the art and science of building websites and web applications. It encompasses everything from creating simple static pages to developing complex web applications. Modern web development involves working with various technologies including HTML, CSS, and JavaScript for the frontend, and technologies like Node.js, Python, or PHP for the backend. Understanding web development principles is crucial for creating robust, scalable, and maintainable web solutions.</p>\n",
        "        </div>\n",
        "    </div>\n",
        "</body>\n",
        "</html>\n",
        "\n",
        "#Webdesign.html\n",
        "<!DOCTYPE html>\n",
        "<html lang=\"en\">\n",
        "<head>\n",
        "    <meta charset=\"UTF-8\">\n",
        "    <meta name=\"viewport\" content=\"width=device-width, initial-scale=1.0\">\n",
        "    <title>My Blog - Web Design</title>\n",
        "</head>\n",
        "<body>\n",
        "    <div>\n",
        "        <nav>\n",
        "            <a href=\"home.html\">Home</a> |\n",
        "            <a href=\"webdev.html\">Web Development</a> |\n",
        "            <a href=\"webdesign.html\">Web Design</a>\n",
        "        </nav>\n",
        "\n",
        "        <div>\n",
        "            <h1>Web Design</h1>\n",
        "            <p>Web design focuses on the visual and user experience aspects of websites. It involves creating attractive, functional, and user-friendly interfaces that effectively communicate with visitors. Key principles of web design include color theory, typography, layout composition, and responsive design. Good web design should not only look appealing but also enhance usability and accessibility, ensuring that websites are enjoyable and easy to use for all visitors.</p>\n",
        "        </div>\n",
        "    </div>\n",
        "</body>\n",
        "</html>"
      ],
      "metadata": {
        "id": "__tYTqK2LmPb",
        "colab": {
          "base_uri": "https://localhost:8080/",
          "height": 106
        },
        "collapsed": true,
        "outputId": "acf826ae-2610-498e-e824-022be8affd70"
      },
      "execution_count": 1,
      "outputs": [
        {
          "output_type": "error",
          "ename": "SyntaxError",
          "evalue": "invalid syntax (<ipython-input-1-f484feee7d35>, line 3)",
          "traceback": [
            "\u001b[0;36m  File \u001b[0;32m\"<ipython-input-1-f484feee7d35>\"\u001b[0;36m, line \u001b[0;32m3\u001b[0m\n\u001b[0;31m    <!DOCTYPE html>\u001b[0m\n\u001b[0m    ^\u001b[0m\n\u001b[0;31mSyntaxError\u001b[0m\u001b[0;31m:\u001b[0m invalid syntax\n"
          ]
        }
      ]
    },
    {
      "cell_type": "markdown",
      "source": [
        "**4)Create an ordered list of HTML tags. Each list item must include the tag name and some information about\n",
        "the tag**"
      ],
      "metadata": {
        "id": "CLM1TswnpDWE"
      }
    },
    {
      "cell_type": "code",
      "source": [
        "#The Answer\n",
        "<!DOCTYPE html>\n",
        "<html lang=\"en\">\n",
        "<head>\n",
        "    <meta charset=\"UTF-8\">\n",
        "    <meta name=\"viewport\" content=\"width=device-width, initial-scale=1.0\">\n",
        "    <title>HTML Tags Reference</title>\n",
        "</head>\n",
        "<body>\n",
        "    <h1>Common HTML Tags and Their Usage</h1>\n",
        "\n",
        "    <ol>\n",
        "        <li><strong>&lt;html&gt;</strong> - The root element that contains all other HTML elements on the page.</li>\n",
        "        <li><strong>&lt;head&gt;</strong> - Contains meta-information about the document, such as title, scripts, styles, and links.</li>\n",
        "        <li><strong>&lt;title&gt;</strong> - Defines the title of the document, which appears in the browser's title bar or tab.</li>\n",
        "        <li><strong>&lt;body&gt;</strong> - Contains all the visible content of an HTML document.</li>\n",
        "        <li><strong>&lt;h1&gt; to &lt;h6&gt;</strong> - Defines headings of different levels, with h1 being the most important and h6 the least.</li>\n",
        "        <li><strong>&lt;p&gt;</strong> - Defines a paragraph of text.</li>\n",
        "        <li><strong>&lt;a&gt;</strong> - Creates a hyperlink to another page or resource, using the href attribute.</li>\n",
        "        <li><strong>&lt;img&gt;</strong> - Embeds an image into the document, requires src attribute to specify the image source.</li>\n",
        "        <li><strong>&lt;ul&gt;</strong> - Defines an unordered list, typically rendered as a bulleted list.</li>\n",
        "        <li><strong>&lt;ol&gt;</strong> - Defines an ordered list, normally displayed with numbering.</li>\n",
        "        <li><strong>&lt;li&gt;</strong> - Defines a list item within ordered or unordered lists.</li>\n",
        "        <li><strong>&lt;div&gt;</strong> - Defines a division or section in an HTML document, used as a container for other elements.</li>\n",
        "        <li><strong>&lt;span&gt;</strong> - An inline container used to mark up a part of a text or document.</li>\n",
        "        <li><strong>&lt;table&gt;</strong> - Defines a table structure for displaying tabular data.</li>\n",
        "        <li><strong>&lt;tr&gt;</strong> - Defines a row in a table.</li>\n",
        "        <li><strong>&lt;th&gt;</strong> - Defines a header cell in a table.</li>\n",
        "        <li><strong>&lt;td&gt;</strong> - Defines a standard data cell in a table.</li>\n",
        "        <li><strong>&lt;form&gt;</strong> - Creates a form for user input, containing input elements like text fields and buttons.</li>\n",
        "        <li><strong>&lt;input&gt;</strong> - Creates an input control for forms, with various types specified by the type attribute.</li>\n",
        "        <li><strong>&lt;button&gt;</strong> - Creates a clickable button.</li>\n",
        "        <li><strong>&lt;textarea&gt;</strong> - Defines a multi-line text input control.</li>\n",
        "        <li><strong>&lt;select&gt;</strong> - Creates a drop-down list for users to select options from.</li>\n",
        "        <li><strong>&lt;option&gt;</strong> - Defines an option in a select dropdown list.</li>\n",
        "        <li><strong>&lt;header&gt;</strong> - Represents the introductory content or a set of navigational links.</li>\n",
        "        <li><strong>&lt;footer&gt;</strong> - Defines a footer section, typically containing author information, copyright, and related links.</li>\n",
        "        <li><strong>&lt;nav&gt;</strong> - Defines a section of navigation links.</li>\n",
        "        <li><strong>&lt;section&gt;</strong> - Defines a thematic grouping of content, typically with a heading.</li>\n",
        "        <li><strong>&lt;article&gt;</strong> - Represents a self-contained composition intended to be independently distributable.</li>\n",
        "        <li><strong>&lt;figcaption&gt;</strong> - Defines a caption or legend for a figure element.</li>\n",
        "    </ol>\n",
        "</body>\n",
        "</html>"
      ],
      "metadata": {
        "id": "ps7_1K1JhQKR"
      },
      "execution_count": 1,
      "outputs": []
    },
    {
      "cell_type": "markdown",
      "source": [
        "**5)Create a description list of full stack web development tech stack, using the < dl > tag. Each term should be\n",
        "a tech stack name and each description should be a brief explanation of what the tech stack is used for**"
      ],
      "metadata": {
        "id": "eHdkG7a6q1Lt"
      }
    },
    {
      "cell_type": "code",
      "source": [
        "<!DOCTYPE html>\n",
        "<html lang=\"en\">\n",
        "<head>\n",
        "    <meta charset=\"UTF-8\">\n",
        "    <meta name=\"viewport\" content=\"width=device-width, initial-scale=1.0\">\n",
        "    <title>Full Stack Development Tech Stacks</title>\n",
        "</head>\n",
        "<body>\n",
        "    <h1>Common Full Stack Development Tech Stacks</h1>\n",
        "\n",
        "    <dl>\n",
        "        <dt>MEAN Stack</dt>\n",
        "        <dd>A JavaScript-based tech stack that includes MongoDB for the database, Express.js as the web framework, Angular for front-end development, and Node.js as the runtime environment. This stack allows developers to use JavaScript throughout the entire application, from front-end to back-end.</dd>\n",
        "\n",
        "        <dt>MERN Stack</dt>\n",
        "        <dd>Similar to MEAN stack but replaces Angular with React.js for front-end development. It consists of MongoDB, Express.js, React, and Node.js. Popular for building single-page applications with a responsive user interface.</dd>\n",
        "\n",
        "        <dt>LAMP Stack</dt>\n",
        "        <dd>A traditional and widely-used stack that includes Linux as the operating system, Apache as the web server, MySQL for the database, and PHP for server-side scripting. Known for its reliability and extensive documentation.</dd>\n",
        "\n",
        "        <dt>Django Stack</dt>\n",
        "        <dd>A Python-based stack using Django framework for backend, PostgreSQL for database, and typically combines with JavaScript frameworks like React or Vue for frontend. Popular for building data-driven websites and applications requiring robust security.</dd>\n",
        "\n",
        "        <dt>Ruby on Rails Stack</dt>\n",
        "        <dd>Built around the Ruby programming language and Rails framework, typically using PostgreSQL for database, and HTML/CSS/JavaScript for frontend. Known for its convention over configuration approach and rapid development capabilities.</dd>\n",
        "\n",
        "        <dt>JAMstack</dt>\n",
        "        <dd>Modern web development architecture based on client-side JavaScript, reusable APIs, and prebuilt Markup. Uses static site generators like Gatsby or Next.js, and typically combines with headless CMS systems.</dd>\n",
        "\n",
        "        <dt>.NET Stack</dt>\n",
        "        <dd>Microsoft's development stack including .NET Core framework, C# programming language, SQL Server for database, and ASP.NET for web applications. Often used in enterprise-level applications.</dd>\n",
        "\n",
        "        <dt>TALL Stack</dt>\n",
        "        <dd>A modern stack combining Tailwind CSS, Alpine.js, Laravel PHP framework, and Livewire. Designed for building dynamic web applications with minimal JavaScript and rapid development time.</dd>\n",
        "\n",
        "        <dt>Flutter Stack</dt>\n",
        "        <dd>Google's UI toolkit for building natively compiled applications for mobile, web, and desktop from a single codebase. Often paired with Firebase for backend services and database management.</dd>\n",
        "\n",
        "        <dt>Vue Full Stack</dt>\n",
        "        <dd>Combines Vue.js for frontend with Node.js and Express backend, typically using MongoDB or PostgreSQL for database. Known for its gentle learning curve and flexible architecture.</dd>\n",
        "    </dl>\n",
        "</body>\n",
        "</html>"
      ],
      "metadata": {
        "id": "RsiuTSuzbBLx"
      },
      "execution_count": null,
      "outputs": []
    },
    {
      "cell_type": "markdown",
      "source": [
        "**6)Create an ordered list of the full stack web development tech stack HTML, CSS, and JS. For each tech\n",
        "stack, create a table that lists the tech stack name, its primary use cases, and some key features or\n",
        "benefits. Below is a reference image.**\n"
      ],
      "metadata": {
        "id": "ezjDxkW9bT0Z"
      }
    },
    {
      "cell_type": "code",
      "source": [
        "<!DOCTYPE html>\n",
        "<html lang=\"en\">\n",
        "<head>\n",
        "    <meta charset=\"UTF-8\">\n",
        "    <meta name=\"viewport\" content=\"width=device-width, initial-scale=1.0\">\n",
        "    <title>Document</title>\n",
        "</head>\n",
        "<body>\n",
        "    <ol>\n",
        "        <li>\n",
        "            <h2>HTML</h2>\n",
        "            <table border=\"1\">\n",
        "                <tr>\n",
        "                    <th>\n",
        "                        Primary Use Cases\n",
        "                    </th>\n",
        "                    <th>\n",
        "                        Key Features/Benefits\n",
        "                    </th>\n",
        "                    <tr>\n",
        "                        <td>Building the structure of web pages</td>\n",
        "                        <td>\n",
        "                            <ul>\n",
        "                                <li>Simple and easy to learn</li>\n",
        "                                <li>Compatible with all web browsers</li>\n",
        "                                <li>Allows for semantic markup</li>\n",
        "                            </ul>\n",
        "                        </td>\n",
        "                    </tr>\n",
        "                </tr>\n",
        "            </table>\n",
        "        </li>\n",
        "        <li>\n",
        "            <h2>CSS</h2>\n",
        "            <table border=\"1\">\n",
        "                <tr>\n",
        "                    <th>Primary Use Cases</th>\n",
        "                    <th>Key Features/Benefits</th>\n",
        "                </tr>\n",
        "                <tr>\n",
        "                        <td>Styling and layout of web pages</td>\n",
        "                        <td>\n",
        "                            <ul>\n",
        "                                <li>Allows for separation of content and presentation</li>\n",
        "                                <li>Enables responsive design</li>\n",
        "                                <li>Offers a wide range of styling options</li>\n",
        "                            </ul>\n",
        "                        </td>\n",
        "                </tr>\n",
        "            </table>\n",
        "        </li>\n",
        "        <li>\n",
        "            <h2>JS</h2>\n",
        "            <table border=\"1\">\n",
        "                <tr>\n",
        "                    <th>Primary Use Cases</th>\n",
        "                    <th>Key Features/Benefits</th>\n",
        "                </tr>\n",
        "                <tr>\n",
        "                    <td>Adding interactivity and dynamic behavior to web pages</td>\n",
        "                    <td>\n",
        "                        <ul>\n",
        "                            <li>Enables client-side interactivity</li>\n",
        "                            <li>Supports asynchronous programming</li>\n",
        "                            <li>Rich ecosystem of libraries and frameworks</li>\n",
        "                        </ul>\n",
        "                    </td>\n",
        "                </tr>\n",
        "            </table>\n",
        "        </li>\n",
        "    </ol>\n",
        "</body>\n",
        "</html>"
      ],
      "metadata": {
        "id": "Bj7u7OLRe1xS"
      },
      "execution_count": null,
      "outputs": []
    },
    {
      "cell_type": "markdown",
      "source": [
        "**7) Build a complex nested list structure representing a multi-level table of contents. Use unordered lists\n",
        "(< ul >) and list items (< li >) with inline-block styling to create a structured layout. Apply formatting tags to\n",
        "enhance the presentation of list items.**"
      ],
      "metadata": {
        "id": "VFmdttZue3cP"
      }
    },
    {
      "cell_type": "code",
      "source": [
        "<!DOCTYPE html>\n",
        "<html lang=\"en\">\n",
        "<head>\n",
        "    <meta charset=\"UTF-8\">\n",
        "    <meta name=\"viewport\" content=\"width=device-width, initial-scale=1.0\">\n",
        "    <title>Table of Contents</title>\n",
        "</head>\n",
        "<body>\n",
        "    <h1>Table of Contents</h1>\n",
        "\n",
        "    <ul>\n",
        "        <li><a href=\"#part1\">Part 1: Introduction</a></li>\n",
        "        <li><a href=\"#part2\">Part 2: Getting Started</a>\n",
        "            <ul>\n",
        "                <li><a href=\"#2.1\">2.1 Installing the Software</a></li>\n",
        "                <li><a href=\"#2.2\">2.2 Creating a New Project</a>\n",
        "                    <ul>\n",
        "                        <li><a href=\"#2.2.1\">2.2.1 Project Templates</a></li>\n",
        "                        <li><a href=\"#2.2.2\">2.2.2 Customizing Settings</a></li>\n",
        "                    </ul>\n",
        "                </li>\n",
        "                <li><a href=\"#2.3\">2.3 Exploring the Interface</a>\n",
        "                    <ul>\n",
        "                        <li><a href=\"#2.3.1\">2.3.1 Toolbar Features</a></li>\n",
        "                        <li><a href=\"#2.3.2\">2.3.2 Panel Layout</a>\n",
        "                            <ul>\n",
        "                                <li><a href=\"#2.3.2.1\">2.3.2.1 Docking Panels</a></li>\n",
        "                                <li><a href=\"#2.3.2.2\">2.3.2.2 Tabbed Interface</a></li>\n",
        "                            </ul>\n",
        "                        </li>\n",
        "                    </ul>\n",
        "                </li>\n",
        "            </ul>\n",
        "        </li>\n",
        "        <li><a href=\"#part3\">Part 3: Advanced Topics</a>\n",
        "            <ul>\n",
        "                <li><a href=\"#3.1\">3.1 Working with Plugins</a>\n",
        "                    <ul>\n",
        "                        <li><a href=\"#3.1.1\">3.1.1 Installing Plugins</a></li>\n",
        "                        <li><a href=\"#3.1.2\">3.1.2 Plugin Configuration</a></li>\n",
        "                    </ul>\n",
        "                </li>\n",
        "                <li><a href=\"#3.2\">3.2 Customizing the UI</a>\n",
        "                    <ul>\n",
        "                        <li><a href=\"#3.2.1\">3.2.1 Changing Themes</a></li>\n",
        "                        <li><a href=\"#3.2.2\">3.2.2 Configuring Shortcuts</a></li>\n",
        "                    </ul>\n",
        "                </li>\n",
        "                <li><a href=\"#3.3\">3.3 Optimizing Performance</a>\n",
        "                    <ul>\n",
        "                        <li><a href=\"#3.3.1\">3.3.1 Caching Strategies</a></li>\n",
        "                        <li><a href=\"#3.3.2\">3.3.2 Resource Minification</a></li>\n",
        "                    </ul>\n",
        "                </li>\n",
        "            </ul>\n",
        "        </li>\n",
        "        <li><a href=\"#part4\">Part 4: Conclusion</a></li>\n",
        "    </ul>\n",
        "</body>\n",
        "</html>"
      ],
      "metadata": {
        "id": "VM3hRvuMfIZq"
      },
      "execution_count": null,
      "outputs": []
    },
    {
      "cell_type": "markdown",
      "source": [
        "**8)Create a table to display a conference schedule. Each row corresponds to a time slot, and each column\n",
        "corresponds to a room. Some time slots might have multiple sessions running simultaneously in different\n",
        "rooms. Utilize rowspan and colspan attributes as necessary to accommodate this complex schedule.\n",
        "(use table attribute “cellpadding”  to give extra padding in each table cell ).**"
      ],
      "metadata": {
        "id": "CpdYp7fcgar0"
      }
    },
    {
      "cell_type": "code",
      "source": [
        "<!DOCTYPE html>\n",
        "<html lang=\"en\">\n",
        "<head>\n",
        "    <meta charset=\"UTF-8\">\n",
        "    <meta name=\"viewport\" content=\"width=device-width, initial-scale=1.0\">\n",
        "    <title>Conference Schedule</title>\n",
        "</head>\n",
        "<body>\n",
        "    <h1>Conference Schedule</h1>\n",
        "\n",
        "    <table border=\"1\" cellpadding=\"15\">\n",
        "        <tr>\n",
        "            <th>Time</th>\n",
        "            <th>Room 1</th>\n",
        "            <th>Room 2</th>\n",
        "            <th>Room 3</th>\n",
        "            <th>Room 4</th>\n",
        "        </tr>\n",
        "        <tr>\n",
        "            <td rowspan=\"3\">9:00 AM - 10:00 AM</td>\n",
        "            <td rowspan=\"2\">Keynote</td>\n",
        "            <td>Session A</td>\n",
        "            <td>Session B</td>\n",
        "            <td rowspan=\"3\">Session C</td>\n",
        "\n",
        "        </tr>\n",
        "\n",
        "        <tr>\n",
        "\n",
        "            <td>Session D</td>\n",
        "            <td>Session E</td>\n",
        "        </tr>\n",
        "        <tr>\n",
        "            <td>\n",
        "                10:30 AM - 11:30 AM\n",
        "            </td>\n",
        "            <td colspan=\"2\">Session F</td>\n",
        "        </tr>\n",
        "        <tr>\n",
        "            <td>12:00 PM - 1:00 PM</td>\n",
        "            <td colspan=\"4\">Lunch Break</td>\n",
        "        </tr>\n",
        "        <tr>\n",
        "            <td rowspan=\"2\">1:00 PM - 2:00 PM</td>\n",
        "            <td>Session G</td>\n",
        "            <td rowspan=\"2\">Session H</td>\n",
        "            <td>Session I</td>\n",
        "            <td>Session J</td>\n",
        "        </tr>\n",
        "        <tr>\n",
        "\n",
        "            <td>Session K</td>\n",
        "            <td>Session L</td>\n",
        "            <td>Session M</td>\n",
        "        </tr>\n",
        "    </table>\n",
        "</body>\n",
        "</html>"
      ],
      "metadata": {
        "id": "Rc4HFVuJmLbR"
      },
      "execution_count": null,
      "outputs": []
    }
  ]
}